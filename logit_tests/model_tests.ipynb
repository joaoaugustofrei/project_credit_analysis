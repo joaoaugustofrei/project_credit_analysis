{
 "cells": [
  {
   "cell_type": "code",
   "execution_count": 6,
   "id": "43f551e5",
   "metadata": {},
   "outputs": [],
   "source": [
    "# Loading packages\n",
    "import pandas as pd\n",
    "from pandas.api.types import is_numeric_dtype\n",
    "import numpy as np\n",
    "import matplotlib.pyplot as plt\n",
    "import seaborn as sns"
   ]
  },
  {
   "cell_type": "code",
   "execution_count": 2,
   "id": "9e809f03",
   "metadata": {},
   "outputs": [
    {
     "name": "stderr",
     "output_type": "stream",
     "text": [
      "/tmp/ipykernel_10875/2729177796.py:2: DtypeWarning: Columns (20) have mixed types. Specify dtype option on import or set low_memory=False.\n",
      "  loan_df = pd.read_csv('../raw_data/loan_data_2007_2014.csv')\n"
     ]
    },
    {
     "name": "stdout",
     "output_type": "stream",
     "text": [
      "<class 'pandas.core.frame.DataFrame'>\n",
      "RangeIndex: 466285 entries, 0 to 466284\n",
      "Data columns (total 75 columns):\n",
      " #   Column                       Non-Null Count   Dtype  \n",
      "---  ------                       --------------   -----  \n",
      " 0   Unnamed: 0                   466285 non-null  int64  \n",
      " 1   id                           466285 non-null  int64  \n",
      " 2   member_id                    466285 non-null  int64  \n",
      " 3   loan_amnt                    466285 non-null  int64  \n",
      " 4   funded_amnt                  466285 non-null  int64  \n",
      " 5   funded_amnt_inv              466285 non-null  float64\n",
      " 6   term                         466285 non-null  object \n",
      " 7   int_rate                     466285 non-null  float64\n",
      " 8   installment                  466285 non-null  float64\n",
      " 9   grade                        466285 non-null  object \n",
      " 10  sub_grade                    466285 non-null  object \n",
      " 11  emp_title                    438697 non-null  object \n",
      " 12  emp_length                   445277 non-null  object \n",
      " 13  home_ownership               466285 non-null  object \n",
      " 14  annual_inc                   466281 non-null  float64\n",
      " 15  verification_status          466285 non-null  object \n",
      " 16  issue_d                      466285 non-null  object \n",
      " 17  loan_status                  466285 non-null  object \n",
      " 18  pymnt_plan                   466285 non-null  object \n",
      " 19  url                          466285 non-null  object \n",
      " 20  desc                         125983 non-null  object \n",
      " 21  purpose                      466285 non-null  object \n",
      " 22  title                        466265 non-null  object \n",
      " 23  zip_code                     466285 non-null  object \n",
      " 24  addr_state                   466285 non-null  object \n",
      " 25  dti                          466285 non-null  float64\n",
      " 26  delinq_2yrs                  466256 non-null  float64\n",
      " 27  earliest_cr_line             466256 non-null  object \n",
      " 28  inq_last_6mths               466256 non-null  float64\n",
      " 29  mths_since_last_delinq       215934 non-null  float64\n",
      " 30  mths_since_last_record       62638 non-null   float64\n",
      " 31  open_acc                     466256 non-null  float64\n",
      " 32  pub_rec                      466256 non-null  float64\n",
      " 33  revol_bal                    466285 non-null  int64  \n",
      " 34  revol_util                   465945 non-null  float64\n",
      " 35  total_acc                    466256 non-null  float64\n",
      " 36  initial_list_status          466285 non-null  object \n",
      " 37  out_prncp                    466285 non-null  float64\n",
      " 38  out_prncp_inv                466285 non-null  float64\n",
      " 39  total_pymnt                  466285 non-null  float64\n",
      " 40  total_pymnt_inv              466285 non-null  float64\n",
      " 41  total_rec_prncp              466285 non-null  float64\n",
      " 42  total_rec_int                466285 non-null  float64\n",
      " 43  total_rec_late_fee           466285 non-null  float64\n",
      " 44  recoveries                   466285 non-null  float64\n",
      " 45  collection_recovery_fee      466285 non-null  float64\n",
      " 46  last_pymnt_d                 465909 non-null  object \n",
      " 47  last_pymnt_amnt              466285 non-null  float64\n",
      " 48  next_pymnt_d                 239071 non-null  object \n",
      " 49  last_credit_pull_d           466243 non-null  object \n",
      " 50  collections_12_mths_ex_med   466140 non-null  float64\n",
      " 51  mths_since_last_major_derog  98974 non-null   float64\n",
      " 52  policy_code                  466285 non-null  int64  \n",
      " 53  application_type             466285 non-null  object \n",
      " 54  annual_inc_joint             0 non-null       float64\n",
      " 55  dti_joint                    0 non-null       float64\n",
      " 56  verification_status_joint    0 non-null       float64\n",
      " 57  acc_now_delinq               466256 non-null  float64\n",
      " 58  tot_coll_amt                 396009 non-null  float64\n",
      " 59  tot_cur_bal                  396009 non-null  float64\n",
      " 60  open_acc_6m                  0 non-null       float64\n",
      " 61  open_il_6m                   0 non-null       float64\n",
      " 62  open_il_12m                  0 non-null       float64\n",
      " 63  open_il_24m                  0 non-null       float64\n",
      " 64  mths_since_rcnt_il           0 non-null       float64\n",
      " 65  total_bal_il                 0 non-null       float64\n",
      " 66  il_util                      0 non-null       float64\n",
      " 67  open_rv_12m                  0 non-null       float64\n",
      " 68  open_rv_24m                  0 non-null       float64\n",
      " 69  max_bal_bc                   0 non-null       float64\n",
      " 70  all_util                     0 non-null       float64\n",
      " 71  total_rev_hi_lim             396009 non-null  float64\n",
      " 72  inq_fi                       0 non-null       float64\n",
      " 73  total_cu_tl                  0 non-null       float64\n",
      " 74  inq_last_12m                 0 non-null       float64\n",
      "dtypes: float64(46), int64(7), object(22)\n",
      "memory usage: 266.8+ MB\n"
     ]
    }
   ],
   "source": [
    "# Loading the dataset\n",
    "loan_df = pd.read_csv('../raw_data/loan_data_2007_2014.csv')\n",
    "df_backup = loan_df.copy()\n",
    "loan_df.info()"
   ]
  },
  {
   "cell_type": "markdown",
   "id": "37a1f11f",
   "metadata": {},
   "source": [
    "# Target feature:\n",
    "'loan_status' is the column that tells you wether there's been a default"
   ]
  },
  {
   "cell_type": "code",
   "execution_count": 3,
   "id": "7dc4d9d9",
   "metadata": {},
   "outputs": [
    {
     "data": {
      "text/plain": [
       "0"
      ]
     },
     "execution_count": 3,
     "metadata": {},
     "output_type": "execute_result"
    }
   ],
   "source": [
    "loan_df['loan_status'].unique()\n",
    "loan_df['loan_status'].isnull().sum()"
   ]
  },
  {
   "cell_type": "code",
   "execution_count": 9,
   "id": "ee2c9134",
   "metadata": {},
   "outputs": [
    {
     "data": {
      "text/plain": [
       "array([0, 1])"
      ]
     },
     "execution_count": 9,
     "metadata": {},
     "output_type": "execute_result"
    }
   ],
   "source": [
    "# Encoding classes on 'loan_status'\n",
    "loan_df['default_target'] = np.where(loan_df['loan_status'] == 'Default', 1,\n",
    "                            np.where(loan_df['loan_status'] == 'Charged Off' , 1,\n",
    "                            np.where(loan_df['loan_status'] == 'In Grace Period', 1,\n",
    "                            np.where(loan_df['loan_status'] == 'Late (31-120) days', 1,\n",
    "                            np.where(loan_df['loan_status'] == 'Does not meet the credit policy. Status:Charged Off', 1,\n",
    "                            np.where(loan_df['loan_status'] == 'Current', 0,\n",
    "                            np.where(loan_df['loan_status'] == 'Fully Paid', 0,\n",
    "                            np.where(loan_df['loan_status'] == 'Late (16-30) days', 0,\n",
    "                            np.where(loan_df['loan_status'] == 'Does not meet the credit policy. Status:Fully Paid', 0, 0)))))))))\n",
    "\n",
    "loan_df['default_target'].unique()"
   ]
  },
  {
   "cell_type": "code",
   "execution_count": null,
   "id": "0695fd28",
   "metadata": {},
   "outputs": [],
   "source": [
    "loan_df[['loan_amnt', 'home_ownership', 'loan_status', 'default_target']].head(10)"
   ]
  },
  {
   "cell_type": "markdown",
   "id": "a4123351",
   "metadata": {},
   "source": [
    "# Dataset exploration and feature selection"
   ]
  },
  {
   "cell_type": "code",
   "execution_count": null,
   "id": "9e085fc3",
   "metadata": {},
   "outputs": [],
   "source": [
    "# Checking features\n",
    "loan_df[loan_df['total_rev_hi_lim'] > 0]['total_rev_hi_lim'].sort_values(ascending = False)"
   ]
  },
  {
   "cell_type": "code",
   "execution_count": 7,
   "id": "75e010e4",
   "metadata": {},
   "outputs": [
    {
     "data": {
      "text/plain": [
       "inq_last_12m                   466285\n",
       "total_bal_il                   466285\n",
       "dti_joint                      466285\n",
       "verification_status_joint      466285\n",
       "annual_inc_joint               466285\n",
       "open_acc_6m                    466285\n",
       "open_il_6m                     466285\n",
       "open_il_12m                    466285\n",
       "open_il_24m                    466285\n",
       "mths_since_rcnt_il             466285\n",
       "il_util                        466285\n",
       "open_rv_24m                    466285\n",
       "total_cu_tl                    466285\n",
       "inq_fi                         466285\n",
       "max_bal_bc                     466285\n",
       "all_util                       466285\n",
       "open_rv_12m                    466285\n",
       "mths_since_last_record         403647\n",
       "mths_since_last_major_derog    367311\n",
       "desc                           340302\n",
       "mths_since_last_delinq         250351\n",
       "next_pymnt_d                   227214\n",
       "tot_cur_bal                     70276\n",
       "tot_coll_amt                    70276\n",
       "total_rev_hi_lim                70276\n",
       "emp_title                       27588\n",
       "emp_length                      21008\n",
       "last_pymnt_d                      376\n",
       "revol_util                        340\n",
       "collections_12_mths_ex_med        145\n",
       "last_credit_pull_d                 42\n",
       "inq_last_6mths                     29\n",
       "earliest_cr_line                   29\n",
       "delinq_2yrs                        29\n",
       "open_acc                           29\n",
       "pub_rec                            29\n",
       "acc_now_delinq                     29\n",
       "total_acc                          29\n",
       "title                              20\n",
       "annual_inc                          4\n",
       "application_type                    0\n",
       "policy_code                         0\n",
       "collection_recovery_fee             0\n",
       "last_pymnt_amnt                     0\n",
       "Unnamed: 0                          0\n",
       "recoveries                          0\n",
       "total_rec_late_fee                  0\n",
       "member_id                           0\n",
       "loan_amnt                           0\n",
       "funded_amnt                         0\n",
       "funded_amnt_inv                     0\n",
       "term                                0\n",
       "int_rate                            0\n",
       "installment                         0\n",
       "grade                               0\n",
       "sub_grade                           0\n",
       "home_ownership                      0\n",
       "verification_status                 0\n",
       "issue_d                             0\n",
       "loan_status                         0\n",
       "pymnt_plan                          0\n",
       "url                                 0\n",
       "purpose                             0\n",
       "zip_code                            0\n",
       "addr_state                          0\n",
       "dti                                 0\n",
       "revol_bal                           0\n",
       "initial_list_status                 0\n",
       "id                                  0\n",
       "out_prncp_inv                       0\n",
       "total_pymnt                         0\n",
       "total_pymnt_inv                     0\n",
       "total_rec_prncp                     0\n",
       "total_rec_int                       0\n",
       "out_prncp                           0\n",
       "dtype: int64"
      ]
     },
     "execution_count": 7,
     "metadata": {},
     "output_type": "execute_result"
    }
   ],
   "source": [
    "# Too many columns with a lot of NAs\n",
    "\n",
    "# Discuss with team ----\n",
    "# tot_cur_bal                     70276\n",
    "# tot_coll_amt                    70276\n",
    "\n",
    "loan_df.isnull().sum().sort_values(ascending = False)"
   ]
  },
  {
   "cell_type": "code",
   "execution_count": 10,
   "id": "057d6b0a",
   "metadata": {},
   "outputs": [],
   "source": [
    "# Selecting only the features that might be the most important\n",
    "X = loan_df[[\n",
    "    'default_target'\n",
    "    , 'loan_amnt' #STD\n",
    "    , 'funded_amnt' #STD\n",
    "    , 'funded_amnt_inv' #STD\n",
    "    , 'term' # 36 or 60 -> OHE\n",
    "    , 'int_rate' # STD\n",
    "    , 'installment' # STD\n",
    "    , 'grade' # Transform grade + subgrade into one feature, then Encode\n",
    "    , 'sub_grade' # OHE\n",
    "    # , 'emp_title' # Too chaotic. Drop\n",
    "    , 'emp_length' # STD\n",
    "    , 'home_ownership' # OHE\n",
    "    , 'annual_inc' # STD\n",
    "    , 'verification_status' # OHE\n",
    "    , 'dti' # STD\n",
    "    , 'delinq_2yrs' # STD\n",
    "    , 'pub_rec' # STD\n",
    "    , 'revol_bal' # STD\n",
    "    , 'revol_util' # STD\n",
    "    , 'total_acc' # STD\n",
    "    , 'out_prncp' # Transform into % of loan_amnt - \"Remaining outsdanding principal for total amount funded\"\n",
    "    , 'total_pymnt' # CHANGE to % of total payment\n",
    "    , 'total_rec_prncp' # CHANGE to % of loan paid to date\n",
    "    , 'total_rec_late_fee' # CHANGE to % of total fees that were late\n",
    "    , 'last_pymnt_d' # CHANGE to days since last payment: if > 30 = late\n",
    "    # , 'next_pymnt_d' # Too many NAs Do something with 'last_pymnt_d'? \n",
    "    , 'last_pymnt_amnt' # CHANGE to amount received - installment price\n",
    "    # , 'mths_since_last_major_derog' # Too many NAs\n",
    "    , 'application_type'\n",
    "    # , 'annual_inc_joint' # all NA\n",
    "    # , 'dti_joint' # all NA\n",
    "    # , 'verification_status_joint' # all NA\n",
    "    , 'acc_now_delinq' # STD\n",
    "    , 'tot_coll_amt' # STD\n",
    "    , 'tot_cur_bal' # loan_amt/tot_cur_bal -> payment capacity\n",
    "    # , 'total_rev_hi_lim' # Too chaotic. Better drop?\n",
    "]]\n",
    "\n",
    "# X.head(10)"
   ]
  },
  {
   "cell_type": "code",
   "execution_count": 26,
   "id": "faf0d17f",
   "metadata": {},
   "outputs": [
    {
     "data": {
      "text/plain": [
       "array([' 36 months', ' 60 months'], dtype=object)"
      ]
     },
     "execution_count": 26,
     "metadata": {},
     "output_type": "execute_result"
    }
   ],
   "source": [
    "X['term'].unique()"
   ]
  },
  {
   "cell_type": "code",
   "execution_count": null,
   "id": "b19f3a9f",
   "metadata": {},
   "outputs": [],
   "source": [
    "for column in X:\n",
    "    if is_numeric_dtype(X[column]):\n",
    "        plt.figure()\n",
    "        X.boxplot([column])"
   ]
  },
  {
   "cell_type": "markdown",
   "id": "13334146",
   "metadata": {},
   "source": [
    "# Encoding features"
   ]
  },
  {
   "cell_type": "code",
   "execution_count": 14,
   "id": "ab51c0d3",
   "metadata": {},
   "outputs": [
    {
     "name": "stderr",
     "output_type": "stream",
     "text": [
      "/tmp/ipykernel_10875/1008017838.py:9: SettingWithCopyWarning: \n",
      "A value is trying to be set on a copy of a slice from a DataFrame.\n",
      "Try using .loc[row_indexer,col_indexer] = value instead\n",
      "\n",
      "See the caveats in the documentation: https://pandas.pydata.org/pandas-docs/stable/user_guide/indexing.html#returning-a-view-versus-a-copy\n",
      "  X['loan_amnt'], X['funded_amnt'], X['funded_amnt_inv'], X['int_rate'], X['installment'], X['annual_inc'] =  standardizer.fit_transform(X[['loan_amnt','funded_amnt','funded_amnt_inv', 'int_rate', 'installment', 'annual_inc']]).T\n"
     ]
    },
    {
     "data": {
      "text/html": [
       "<div>\n",
       "<style scoped>\n",
       "    .dataframe tbody tr th:only-of-type {\n",
       "        vertical-align: middle;\n",
       "    }\n",
       "\n",
       "    .dataframe tbody tr th {\n",
       "        vertical-align: top;\n",
       "    }\n",
       "\n",
       "    .dataframe thead th {\n",
       "        text-align: right;\n",
       "    }\n",
       "</style>\n",
       "<table border=\"1\" class=\"dataframe\">\n",
       "  <thead>\n",
       "    <tr style=\"text-align: right;\">\n",
       "      <th></th>\n",
       "      <th>default_target</th>\n",
       "      <th>loan_amnt</th>\n",
       "      <th>funded_amnt</th>\n",
       "      <th>funded_amnt_inv</th>\n",
       "      <th>term</th>\n",
       "      <th>int_rate</th>\n",
       "      <th>installment</th>\n",
       "      <th>grade</th>\n",
       "      <th>sub_grade</th>\n",
       "      <th>emp_length</th>\n",
       "      <th>...</th>\n",
       "      <th>out_prncp</th>\n",
       "      <th>total_pymnt</th>\n",
       "      <th>total_rec_prncp</th>\n",
       "      <th>total_rec_late_fee</th>\n",
       "      <th>last_pymnt_d</th>\n",
       "      <th>last_pymnt_amnt</th>\n",
       "      <th>application_type</th>\n",
       "      <th>acc_now_delinq</th>\n",
       "      <th>tot_coll_amt</th>\n",
       "      <th>tot_cur_bal</th>\n",
       "    </tr>\n",
       "  </thead>\n",
       "  <tbody>\n",
       "    <tr>\n",
       "      <th>0</th>\n",
       "      <td>0</td>\n",
       "      <td>-1.124392</td>\n",
       "      <td>-1.122963</td>\n",
       "      <td>-1.114455</td>\n",
       "      <td>36 months</td>\n",
       "      <td>-0.729587</td>\n",
       "      <td>-1.105575</td>\n",
       "      <td>B</td>\n",
       "      <td>B2</td>\n",
       "      <td>10+ years</td>\n",
       "      <td>...</td>\n",
       "      <td>0.0</td>\n",
       "      <td>5861.071414</td>\n",
       "      <td>5000.00</td>\n",
       "      <td>0.00</td>\n",
       "      <td>Jan-15</td>\n",
       "      <td>171.62</td>\n",
       "      <td>INDIVIDUAL</td>\n",
       "      <td>0.0</td>\n",
       "      <td>NaN</td>\n",
       "      <td>NaN</td>\n",
       "    </tr>\n",
       "    <tr>\n",
       "      <th>1</th>\n",
       "      <td>1</td>\n",
       "      <td>-1.426088</td>\n",
       "      <td>-1.425101</td>\n",
       "      <td>-1.412732</td>\n",
       "      <td>60 months</td>\n",
       "      <td>0.330634</td>\n",
       "      <td>-1.528763</td>\n",
       "      <td>C</td>\n",
       "      <td>C4</td>\n",
       "      <td>&lt; 1 year</td>\n",
       "      <td>...</td>\n",
       "      <td>0.0</td>\n",
       "      <td>1008.710000</td>\n",
       "      <td>456.46</td>\n",
       "      <td>0.00</td>\n",
       "      <td>Apr-13</td>\n",
       "      <td>119.66</td>\n",
       "      <td>INDIVIDUAL</td>\n",
       "      <td>0.0</td>\n",
       "      <td>NaN</td>\n",
       "      <td>NaN</td>\n",
       "    </tr>\n",
       "    <tr>\n",
       "      <th>2</th>\n",
       "      <td>0</td>\n",
       "      <td>-1.438156</td>\n",
       "      <td>-1.437186</td>\n",
       "      <td>-1.424784</td>\n",
       "      <td>36 months</td>\n",
       "      <td>0.488979</td>\n",
       "      <td>-1.428140</td>\n",
       "      <td>C</td>\n",
       "      <td>C5</td>\n",
       "      <td>10+ years</td>\n",
       "      <td>...</td>\n",
       "      <td>0.0</td>\n",
       "      <td>3003.653644</td>\n",
       "      <td>2400.00</td>\n",
       "      <td>0.00</td>\n",
       "      <td>Jun-14</td>\n",
       "      <td>649.91</td>\n",
       "      <td>INDIVIDUAL</td>\n",
       "      <td>0.0</td>\n",
       "      <td>NaN</td>\n",
       "      <td>NaN</td>\n",
       "    </tr>\n",
       "    <tr>\n",
       "      <th>3</th>\n",
       "      <td>0</td>\n",
       "      <td>-0.521001</td>\n",
       "      <td>-0.518687</td>\n",
       "      <td>-0.508860</td>\n",
       "      <td>36 months</td>\n",
       "      <td>-0.077850</td>\n",
       "      <td>-0.380931</td>\n",
       "      <td>C</td>\n",
       "      <td>C1</td>\n",
       "      <td>10+ years</td>\n",
       "      <td>...</td>\n",
       "      <td>0.0</td>\n",
       "      <td>12226.302210</td>\n",
       "      <td>10000.00</td>\n",
       "      <td>16.97</td>\n",
       "      <td>Jan-15</td>\n",
       "      <td>357.48</td>\n",
       "      <td>INDIVIDUAL</td>\n",
       "      <td>0.0</td>\n",
       "      <td>NaN</td>\n",
       "      <td>NaN</td>\n",
       "    </tr>\n",
       "    <tr>\n",
       "      <th>4</th>\n",
       "      <td>0</td>\n",
       "      <td>-1.365749</td>\n",
       "      <td>-1.364673</td>\n",
       "      <td>-1.352474</td>\n",
       "      <td>60 months</td>\n",
       "      <td>-0.261438</td>\n",
       "      <td>-1.496071</td>\n",
       "      <td>B</td>\n",
       "      <td>B5</td>\n",
       "      <td>1 year</td>\n",
       "      <td>...</td>\n",
       "      <td>766.9</td>\n",
       "      <td>3242.170000</td>\n",
       "      <td>2233.10</td>\n",
       "      <td>0.00</td>\n",
       "      <td>Jan-16</td>\n",
       "      <td>67.79</td>\n",
       "      <td>INDIVIDUAL</td>\n",
       "      <td>0.0</td>\n",
       "      <td>NaN</td>\n",
       "      <td>NaN</td>\n",
       "    </tr>\n",
       "  </tbody>\n",
       "</table>\n",
       "<p>5 rows × 29 columns</p>\n",
       "</div>"
      ],
      "text/plain": [
       "   default_target  loan_amnt  funded_amnt  funded_amnt_inv        term  \\\n",
       "0               0  -1.124392    -1.122963        -1.114455   36 months   \n",
       "1               1  -1.426088    -1.425101        -1.412732   60 months   \n",
       "2               0  -1.438156    -1.437186        -1.424784   36 months   \n",
       "3               0  -0.521001    -0.518687        -0.508860   36 months   \n",
       "4               0  -1.365749    -1.364673        -1.352474   60 months   \n",
       "\n",
       "   int_rate  installment grade sub_grade emp_length  ... out_prncp  \\\n",
       "0 -0.729587    -1.105575     B        B2  10+ years  ...       0.0   \n",
       "1  0.330634    -1.528763     C        C4   < 1 year  ...       0.0   \n",
       "2  0.488979    -1.428140     C        C5  10+ years  ...       0.0   \n",
       "3 -0.077850    -0.380931     C        C1  10+ years  ...       0.0   \n",
       "4 -0.261438    -1.496071     B        B5     1 year  ...     766.9   \n",
       "\n",
       "    total_pymnt total_rec_prncp  total_rec_late_fee  last_pymnt_d  \\\n",
       "0   5861.071414         5000.00                0.00        Jan-15   \n",
       "1   1008.710000          456.46                0.00        Apr-13   \n",
       "2   3003.653644         2400.00                0.00        Jun-14   \n",
       "3  12226.302210        10000.00               16.97        Jan-15   \n",
       "4   3242.170000         2233.10                0.00        Jan-16   \n",
       "\n",
       "   last_pymnt_amnt  application_type  acc_now_delinq  tot_coll_amt  \\\n",
       "0           171.62        INDIVIDUAL             0.0           NaN   \n",
       "1           119.66        INDIVIDUAL             0.0           NaN   \n",
       "2           649.91        INDIVIDUAL             0.0           NaN   \n",
       "3           357.48        INDIVIDUAL             0.0           NaN   \n",
       "4            67.79        INDIVIDUAL             0.0           NaN   \n",
       "\n",
       "   tot_cur_bal  \n",
       "0          NaN  \n",
       "1          NaN  \n",
       "2          NaN  \n",
       "3          NaN  \n",
       "4          NaN  \n",
       "\n",
       "[5 rows x 29 columns]"
      ]
     },
     "execution_count": 14,
     "metadata": {},
     "output_type": "execute_result"
    }
   ],
   "source": [
    "#### Treating features\n",
    "# Importing packages\n",
    "from sklearn.preprocessing import StandardScaler\n",
    "\n",
    "# Standardizing continuous features\n",
    "\n",
    "standardizer = StandardScaler()\n",
    "\n",
    "X['loan_amnt'], X['funded_amnt'], X['funded_amnt_inv'], X['int_rate'], X['installment'], X['annual_inc'] =  standardizer.fit_transform(X[['loan_amnt','funded_amnt','funded_amnt_inv', 'int_rate', 'installment', 'annual_inc']]).T\n",
    "\n",
    "X.head()\n",
    "# OHE categorical features"
   ]
  },
  {
   "cell_type": "markdown",
   "id": "f4e93744",
   "metadata": {},
   "source": [
    "# Logit for Default probability"
   ]
  },
  {
   "cell_type": "code",
   "execution_count": 11,
   "id": "61b7fda7",
   "metadata": {},
   "outputs": [],
   "source": [
    "import statsmodels.formula.api as smf"
   ]
  },
  {
   "cell_type": "code",
   "execution_count": 16,
   "id": "b71e3246",
   "metadata": {},
   "outputs": [
    {
     "name": "stdout",
     "output_type": "stream",
     "text": [
      "Optimization terminated successfully.\n",
      "         Current function value: 0.308619\n",
      "         Iterations 116\n"
     ]
    }
   ],
   "source": [
    "# Instatiating the model\n",
    "from sklearn.linear_model import LogisticRegression\n",
    "\n",
    "model = smf.logit(formula='''\n",
    "                  default_target ~ loan_amnt + funded_amnt + funded_amnt_inv + C(term)\n",
    "                  + int_rate + installment + C(sub_grade) + C(emp_length) + C(home_ownership)\n",
    "                  + annual_inc + C(verification_status) \n",
    "                  \n",
    "                  '''\n",
    "                  , data=loan_df).fit(maxiter = 500)\n",
    "\n",
    "# Features not used\n",
    "# + dti + delinq_2yrs + pub_rec\n",
    "# + revol_bal + revol_util + total_acc + out_prncp + total_pymnt \n",
    "# + total_rec_prncp + total_rec_late_fee + last_pymnt_amnt\n",
    "# + C(application_type) + acc_now_delinq + tot_coll_amt + tot_cur_bal"
   ]
  },
  {
   "cell_type": "code",
   "execution_count": 19,
   "id": "fa5f9545",
   "metadata": {},
   "outputs": [
    {
     "data": {
      "text/plain": [
       "Intercept                                   -38.346475\n",
       "C(term)[T. 60 months]                         0.275442\n",
       "C(sub_grade)[T.A2]                            0.326127\n",
       "C(sub_grade)[T.A3]                            0.353563\n",
       "C(sub_grade)[T.A4]                            0.550179\n",
       "C(sub_grade)[T.A5]                            0.542969\n",
       "C(sub_grade)[T.B1]                            0.557644\n",
       "C(sub_grade)[T.B2]                            0.548198\n",
       "C(sub_grade)[T.B3]                            0.561744\n",
       "C(sub_grade)[T.B4]                            0.531187\n",
       "C(sub_grade)[T.B5]                            0.523534\n",
       "C(sub_grade)[T.C1]                            0.515680\n",
       "C(sub_grade)[T.C2]                            0.476902\n",
       "C(sub_grade)[T.C3]                            0.510432\n",
       "C(sub_grade)[T.C4]                            0.471440\n",
       "C(sub_grade)[T.C5]                            0.440286\n",
       "C(sub_grade)[T.D1]                            0.405538\n",
       "C(sub_grade)[T.D2]                            0.419631\n",
       "C(sub_grade)[T.D3]                            0.376383\n",
       "C(sub_grade)[T.D4]                            0.386157\n",
       "C(sub_grade)[T.D5]                            0.293360\n",
       "C(sub_grade)[T.E1]                            0.258399\n",
       "C(sub_grade)[T.E2]                            0.285176\n",
       "C(sub_grade)[T.E3]                            0.192806\n",
       "C(sub_grade)[T.E4]                            0.206993\n",
       "C(sub_grade)[T.E5]                            0.138582\n",
       "C(sub_grade)[T.F1]                           -0.008109\n",
       "C(sub_grade)[T.F2]                           -0.013951\n",
       "C(sub_grade)[T.F3]                            0.036389\n",
       "C(sub_grade)[T.F4]                            0.013864\n",
       "C(sub_grade)[T.F5]                            0.158866\n",
       "C(sub_grade)[T.G1]                            0.096773\n",
       "C(sub_grade)[T.G2]                           -0.056057\n",
       "C(sub_grade)[T.G3]                           -0.036661\n",
       "C(sub_grade)[T.G4]                           -0.109002\n",
       "C(sub_grade)[T.G5]                            0.095190\n",
       "C(emp_length)[T.10+ years]                   -0.098867\n",
       "C(emp_length)[T.2 years]                     -0.006514\n",
       "C(emp_length)[T.3 years]                      0.007181\n",
       "C(emp_length)[T.4 years]                     -0.005255\n",
       "C(emp_length)[T.5 years]                      0.057320\n",
       "C(emp_length)[T.6 years]                      0.066555\n",
       "C(emp_length)[T.7 years]                      0.009215\n",
       "C(emp_length)[T.8 years]                      0.001275\n",
       "C(emp_length)[T.9 years]                      0.013783\n",
       "C(emp_length)[T.< 1 year]                     0.066202\n",
       "C(home_ownership)[T.MORTGAGE]                33.806429\n",
       "C(home_ownership)[T.NONE]                    34.114057\n",
       "C(home_ownership)[T.OTHER]                   34.475291\n",
       "C(home_ownership)[T.OWN]                     33.830197\n",
       "C(home_ownership)[T.RENT]                    33.958098\n",
       "C(verification_status)[T.Source Verified]    -0.068791\n",
       "C(verification_status)[T.Verified]            0.092725\n",
       "loan_amnt                                     0.000102\n",
       "funded_amnt                                  -0.000010\n",
       "funded_amnt_inv                              -0.000148\n",
       "int_rate                                      0.138535\n",
       "installment                                   0.001938\n",
       "annual_inc                                   -0.000005\n",
       "dtype: float64"
      ]
     },
     "execution_count": 19,
     "metadata": {},
     "output_type": "execute_result"
    }
   ],
   "source": [
    "# Results and coefficients\n",
    "model.params"
   ]
  },
  {
   "cell_type": "code",
   "execution_count": 23,
   "id": "03f56e30",
   "metadata": {},
   "outputs": [],
   "source": [
    "# Validating the model\n"
   ]
  },
  {
   "cell_type": "markdown",
   "id": "bbc5fdab",
   "metadata": {},
   "source": [
    "# Estimating Interest Rates via Linear Regression"
   ]
  },
  {
   "cell_type": "markdown",
   "id": "585dc073",
   "metadata": {},
   "source": [
    "# Neural Network to determine Default"
   ]
  }
 ],
 "metadata": {
  "kernelspec": {
   "display_name": "Python 3.10.6 64-bit ('lewagon')",
   "language": "python",
   "name": "python3"
  },
  "language_info": {
   "codemirror_mode": {
    "name": "ipython",
    "version": 3
   },
   "file_extension": ".py",
   "mimetype": "text/x-python",
   "name": "python",
   "nbconvert_exporter": "python",
   "pygments_lexer": "ipython3",
   "version": "3.10.6"
  },
  "vscode": {
   "interpreter": {
    "hash": "35121c225523798ff9da98e987eac1763075bc82a64008202ba5f4070519eee9"
   }
  }
 },
 "nbformat": 4,
 "nbformat_minor": 5
}
