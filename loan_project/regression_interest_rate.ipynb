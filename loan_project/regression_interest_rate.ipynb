{
 "cells": [
  {
   "cell_type": "code",
   "execution_count": null,
   "id": "611ec21d",
   "metadata": {},
   "outputs": [],
   "source": [
    "import pandas as pd\n",
    "import numpy as np"
   ]
  },
  {
   "cell_type": "code",
   "execution_count": null,
   "id": "53ffab18",
   "metadata": {},
   "outputs": [],
   "source": [
    "# Loading preprocessed dataset\n"
   ]
  },
  {
   "cell_type": "code",
   "execution_count": null,
   "id": "e7e98a56",
   "metadata": {},
   "outputs": [],
   "source": [
    "# Correlações"
   ]
  },
  {
   "cell_type": "code",
   "execution_count": null,
   "id": "31a84ead",
   "metadata": {},
   "outputs": [],
   "source": [
    "# Scatterplots\n",
    "\n",
    "# Testar com diferentes variáveis\n",
    "plt.scatter(loan_df['grade'], loan_df['int_rate'])\n",
    "\n",
    "plt.xlabel('Credit Grade')\n",
    "plt.ylabel('Interest Rate')\n",
    "\n",
    "plt.show()"
   ]
  },
  {
   "cell_type": "code",
   "execution_count": null,
   "id": "376277fb",
   "metadata": {},
   "outputs": [],
   "source": [
    "from sklearn.model_selection import train_test_split\n",
    "\n",
    "# Splitting data into train and test data\n",
    "train_data, test_data = train_test_split(loan_df, test_size=0.3)\n",
    "\n",
    "X_train = train_data[['cols']]\n",
    "y_train = train_data['int_rate']\n",
    "\n",
    "X_test = train_data[['cols']]\n",
    "y_test = train_data[['int_rate']]"
   ]
  },
  {
   "cell_type": "code",
   "execution_count": null,
   "id": "b06a82f6",
   "metadata": {},
   "outputs": [],
   "source": [
    "from sklearn.linear_model import LinearRegression\n",
    "\n",
    "# Instantiate the model\n",
    "model = LinearRegression()\n",
    "\n",
    "# Train the model on the Training data\n",
    "model.fit(X_train, y_train)\n",
    "\n",
    "# Score the model on the Test data\n",
    "model.score(X_test,y_test)"
   ]
  },
  {
   "cell_type": "code",
   "execution_count": null,
   "id": "3cecf9bd",
   "metadata": {},
   "outputs": [],
   "source": [
    "# Cross-Validate\n",
    "from sklearn.model_selection import cross_validate\n",
    "\n",
    "# Instantiate model\n",
    "model = LinearRegression()\n",
    "\n",
    "# 5-Fold Cross validate model\n",
    "cv_results = cross_validate(model, X, y, cv = 10)\n",
    "\n",
    "# Scores\n",
    "cv_results['test_score']\n",
    "\n",
    "# Mean of scores\n",
    "cv_results['test_score'].mean()"
   ]
  },
  {
   "cell_type": "code",
   "execution_count": null,
   "id": "fd0d956b",
   "metadata": {},
   "outputs": [],
   "source": [
    "from sklearn.model_selection import learning_curve\n",
    "\n",
    "train_sizes = [100,200,500,1000,2500,5000,10000,25000,100000]\n",
    "\n",
    "# Get train scores (R2), train sizes, and validation scores using `learning_curve`\n",
    "train_sizes, train_scores, test_scores = learning_curve(\n",
    "    estimator=LinearRegression(), X = X, y = y, train_sizes = train_sizes, cv = 10)\n",
    "\n",
    "# Take the mean of cross-validated train scores and validation scores\n",
    "train_scores_mean = np.mean(train_scores, axis=1)\n",
    "test_scores_mean = np.mean(test_scores, axis=1)\n",
    "\n",
    "# Plotting\n",
    "plt.plot(train_sizes, train_scores_mean, label = 'Training score')\n",
    "plt.plot(train_sizes, test_scores_mean, label = 'Test score')\n",
    "plt.ylabel('R² score', fontsize = 14)\n",
    "plt.xlabel('Training set size', fontsize = 14)\n",
    "plt.title('Learning curves', fontsize = 18, y = 1.03)\n",
    "plt.legend();"
   ]
  }
 ],
 "metadata": {
  "kernelspec": {
   "display_name": "Python 3 (ipykernel)",
   "language": "python",
   "name": "python3"
  },
  "language_info": {
   "codemirror_mode": {
    "name": "ipython",
    "version": 3
   },
   "file_extension": ".py",
   "mimetype": "text/x-python",
   "name": "python",
   "nbconvert_exporter": "python",
   "pygments_lexer": "ipython3",
   "version": "3.9.13"
  }
 },
 "nbformat": 4,
 "nbformat_minor": 5
}
